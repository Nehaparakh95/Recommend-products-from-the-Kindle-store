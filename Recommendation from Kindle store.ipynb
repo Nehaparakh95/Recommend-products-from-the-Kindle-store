{
 "cells": [
  {
   "cell_type": "code",
   "execution_count": 0,
   "metadata": {
    "colab": {},
    "colab_type": "code",
    "id": "uqYWcSw_YwfO"
   },
   "outputs": [],
   "source": [
    "!apt-get install openjdk-8-jdk-headless -qq > /dev/null\n",
    "!wget -q http://www-eu.apache.org/dist/spark/spark-2.4.4/spark-2.4.4-bin-hadoop2.7.tgz\n",
    "!tar xf spark-2.4.4-bin-hadoop2.7.tgz\n",
    "!pip install -q findspark"
   ]
  },
  {
   "cell_type": "markdown",
   "metadata": {
    "colab_type": "text",
    "id": "LOaYejYnlbNU"
   },
   "source": [
    "Creating Environment"
   ]
  },
  {
   "cell_type": "code",
   "execution_count": 0,
   "metadata": {
    "colab": {},
    "colab_type": "code",
    "id": "w0cbvPyPYykk"
   },
   "outputs": [],
   "source": [
    "import os\n",
    "os.environ[\"JAVA_HOME\"] = \"/usr/lib/jvm/java-8-openjdk-amd64\"\n",
    "os.environ[\"SPARK_HOME\"] = \"/content/spark-2.4.4-bin-hadoop2.7\""
   ]
  },
  {
   "cell_type": "code",
   "execution_count": 0,
   "metadata": {
    "colab": {},
    "colab_type": "code",
    "id": "JISOiLIRY3h1"
   },
   "outputs": [],
   "source": [
    "#Creating spark session\n",
    "import findspark\n",
    "findspark.init()\n",
    "from pyspark.sql import SparkSession\n",
    "spark = SparkSession.builder.master(\"local[*]\").getOrCreate()"
   ]
  },
  {
   "cell_type": "code",
   "execution_count": 0,
   "metadata": {
    "colab": {},
    "colab_type": "code",
    "id": "5ZmYujKxY6dM"
   },
   "outputs": [],
   "source": [
    "from pyspark.sql.types import *"
   ]
  },
  {
   "cell_type": "code",
   "execution_count": 0,
   "metadata": {
    "colab": {},
    "colab_type": "code",
    "id": "7l84_f1lY7FW"
   },
   "outputs": [],
   "source": [
    "#Loading spark Context\n",
    "sc = spark.sparkContext"
   ]
  },
  {
   "cell_type": "code",
   "execution_count": 6,
   "metadata": {
    "colab": {
     "base_uri": "https://localhost:8080/",
     "height": 121
    },
    "colab_type": "code",
    "id": "MoL9hBVjY_tQ",
    "outputId": "eebe4658-fbce-4ba7-dc83-2b7298f0620f"
   },
   "outputs": [
    {
     "name": "stdout",
     "output_type": "stream",
     "text": [
      "Go to this URL in a browser: https://accounts.google.com/o/oauth2/auth?client_id=947318989803-6bn6qk8qdgf4n4g3pfee6491hc0brc4i.apps.googleusercontent.com&redirect_uri=urn%3Aietf%3Awg%3Aoauth%3A2.0%3Aoob&scope=email%20https%3A%2F%2Fwww.googleapis.com%2Fauth%2Fdocs.test%20https%3A%2F%2Fwww.googleapis.com%2Fauth%2Fdrive%20https%3A%2F%2Fwww.googleapis.com%2Fauth%2Fdrive.photos.readonly%20https%3A%2F%2Fwww.googleapis.com%2Fauth%2Fpeopleapi.readonly&response_type=code\n",
      "\n",
      "Enter your authorization code:\n",
      "··········\n",
      "Mounted at /content/drive\n"
     ]
    }
   ],
   "source": [
    "from google.colab import drive\n",
    "drive.mount('/content/drive')"
   ]
  },
  {
   "cell_type": "markdown",
   "metadata": {
    "colab_type": "text",
    "id": "KBlGdRT_liwG"
   },
   "source": [
    "Reading training data"
   ]
  },
  {
   "cell_type": "code",
   "execution_count": 0,
   "metadata": {
    "colab": {},
    "colab_type": "code",
    "id": "KgI81aRJZB7X"
   },
   "outputs": [],
   "source": [
    "import pandas as pd \n",
    "data=pd.read_csv('/content/drive/My Drive/training.csv')"
   ]
  },
  {
   "cell_type": "markdown",
   "metadata": {
    "colab_type": "text",
    "id": "wiZCPhL8lroB"
   },
   "source": [
    "Loading traing data in spark dataframe"
   ]
  },
  {
   "cell_type": "code",
   "execution_count": 8,
   "metadata": {
    "colab": {
     "base_uri": "https://localhost:8080/",
     "height": 34
    },
    "colab_type": "code",
    "id": "8t0uUlcCZMPR",
    "outputId": "3388c540-2f5a-4408-da18-cd0931239306"
   },
   "outputs": [
    {
     "data": {
      "text/plain": [
       "DataFrame[asin: int, overall: float, reviewerID: int]"
      ]
     },
     "execution_count": 8,
     "metadata": {
      "tags": []
     },
     "output_type": "execute_result"
    }
   ],
   "source": [
    "data_df = spark.read \\\n",
    "    .format(\"csv\") \\\n",
    "    .option(\"header\", \"true\") \\\n",
    "    .option(\"inferSchema\", \"true\") \\\n",
    "    .load(\"/content/drive/My Drive/training.csv\")\n",
    "data_df.withColumn('reviewerID', data_df.reviewerID.cast(IntegerType()))\n",
    "data_df.withColumn('asin', data_df.asin.cast(IntegerType()))\n",
    "data_df.withColumn('overall', data_df.overall.cast(FloatType()))"
   ]
  },
  {
   "cell_type": "code",
   "execution_count": 9,
   "metadata": {
    "colab": {
     "base_uri": "https://localhost:8080/",
     "height": 202
    },
    "colab_type": "code",
    "id": "6ruFejsWZOxu",
    "outputId": "44852bc0-f7b3-4c93-e2b6-96d62305ac02"
   },
   "outputs": [
    {
     "name": "stdout",
     "output_type": "stream",
     "text": [
      "+-----+-------+----------+\n",
      "| asin|overall|reviewerID|\n",
      "+-----+-------+----------+\n",
      "|52021|      4|     15012|\n",
      "|42867|      5|     20330|\n",
      "| 9168|      5|     62907|\n",
      "|26051|      4|     11778|\n",
      "|30061|      4|     63717|\n",
      "+-----+-------+----------+\n",
      "only showing top 5 rows\n",
      "\n"
     ]
    }
   ],
   "source": [
    "#data_df = data_df.drop('helpful','reviewText','reviewTime','reviewerName','summary','unixReviewTime')\n",
    "data_df.show(5)"
   ]
  },
  {
   "cell_type": "code",
   "execution_count": 0,
   "metadata": {
    "colab": {},
    "colab_type": "code",
    "id": "UaSevfoLZRTg"
   },
   "outputs": [],
   "source": [
    "trainingData = data_df"
   ]
  },
  {
   "cell_type": "markdown",
   "metadata": {
    "colab_type": "text",
    "id": "To60pne1l3R0"
   },
   "source": [
    "Preprocessing of data"
   ]
  },
  {
   "cell_type": "code",
   "execution_count": 0,
   "metadata": {
    "colab": {},
    "colab_type": "code",
    "id": "ic5huU0NZWwr"
   },
   "outputs": [],
   "source": [
    "dataSet = data[['asin', 'reviewerID', 'overall']]\n",
    "users = data.reviewerID.unique()\n",
    "userMeanRatings = {}\n",
    "#Mean centering of overall column\n",
    "for uid in users:\n",
    "    avg = dataSet.loc[dataSet.reviewerID == uid, 'overall'].mean()\n",
    "    dataSet.loc[dataSet.reviewerID == uid, 'overall'] -= avg\n",
    "    userMeanRatings[uid] = avg\n",
    "#dataSet.to_csv(preprocessedFile, index=False)\n"
   ]
  },
  {
   "cell_type": "code",
   "execution_count": 0,
   "metadata": {
    "colab": {},
    "colab_type": "code",
    "id": "0E6xwlu8l4Tw"
   },
   "outputs": [],
   "source": [
    "#Saving preprocessed data in csv file\n",
    "dataSet.to_csv('preprocessed.csv',index=False)\n",
    "!cp preprocessed.csv /content/drive/My\\ Drive/"
   ]
  },
  {
   "cell_type": "code",
   "execution_count": 0,
   "metadata": {
    "colab": {},
    "colab_type": "code",
    "id": "tkpHl5UAdXRs"
   },
   "outputs": [],
   "source": [
    "\n",
    "temp_df=spark.createDataFrame(dataSet)\n",
    "df = spark.createDataFrame(dataSet)"
   ]
  },
  {
   "cell_type": "code",
   "execution_count": 0,
   "metadata": {
    "colab": {},
    "colab_type": "code",
    "id": "jQolfsd-dPj4"
   },
   "outputs": [],
   "source": [
    "trainingData=df"
   ]
  },
  {
   "cell_type": "code",
   "execution_count": 15,
   "metadata": {
    "colab": {
     "base_uri": "https://localhost:8080/",
     "height": 202
    },
    "colab_type": "code",
    "id": "aQcxHBboeO6d",
    "outputId": "7951237e-fa02-4472-dbc0-d15d71c0d307"
   },
   "outputs": [
    {
     "name": "stdout",
     "output_type": "stream",
     "text": [
      "+-----+----------+-------------------+\n",
      "| asin|reviewerID|            overall|\n",
      "+-----+----------+-------------------+\n",
      "|52021|     15012|               -0.5|\n",
      "|42867|     20330|                0.0|\n",
      "| 9168|     62907|                0.0|\n",
      "|26051|     11778|-0.8913043478260869|\n",
      "|30061|     63717|                0.0|\n",
      "+-----+----------+-------------------+\n",
      "only showing top 5 rows\n",
      "\n"
     ]
    }
   ],
   "source": [
    "trainingData.show(5)"
   ]
  },
  {
   "cell_type": "markdown",
   "metadata": {
    "colab_type": "text",
    "id": "0LSTu2a9l_-Z"
   },
   "source": [
    "ALS Model to train"
   ]
  },
  {
   "cell_type": "code",
   "execution_count": 0,
   "metadata": {
    "colab": {},
    "colab_type": "code",
    "id": "hI-fdT9WZXNY"
   },
   "outputs": [],
   "source": [
    "#Training model ALS\n",
    "from pyspark.ml.evaluation import RegressionEvaluator\n",
    "from pyspark.ml.recommendation import ALS\n",
    "als=ALS(maxIter=100, regParam=0.01,rank=150,userCol=\"reviewerID\",itemCol=\"asin\",ratingCol=\"overall\",coldStartStrategy=\"drop\",nonnegative=True)\n",
    "model=als.fit(trainingData)"
   ]
  },
  {
   "cell_type": "markdown",
   "metadata": {
    "colab_type": "text",
    "id": "PVZO6I7pmWTt"
   },
   "source": [
    "Loading Test Data"
   ]
  },
  {
   "cell_type": "code",
   "execution_count": 17,
   "metadata": {
    "colab": {
     "base_uri": "https://localhost:8080/",
     "height": 202
    },
    "colab_type": "code",
    "id": "J3WDg_U9ZbCt",
    "outputId": "7a57a5f5-42c0-4305-d7a5-07e510b768b3"
   },
   "outputs": [
    {
     "name": "stdout",
     "output_type": "stream",
     "text": [
      "+----------+-----+\n",
      "|reviewerID| asin|\n",
      "+----------+-----+\n",
      "|     57436|28105|\n",
      "|     57436|  965|\n",
      "|     18624|31199|\n",
      "|     32196|39244|\n",
      "|     32196|25050|\n",
      "+----------+-----+\n",
      "only showing top 5 rows\n",
      "\n"
     ]
    }
   ],
   "source": [
    "ratings_df = spark.read \\\n",
    "    .format(\"csv\") \\\n",
    "    .option(\"header\", \"true\") \\\n",
    "    .option(\"inferSchema\", \"true\") \\\n",
    "    .load(\"/content/drive/My Drive/test_with_asin_reviewerID.csv\")\n",
    "ratings_df.show(5)"
   ]
  },
  {
   "cell_type": "markdown",
   "metadata": {
    "colab_type": "text",
    "id": "8QyT7B_Nmd37"
   },
   "source": [
    "Applying model on Test Data"
   ]
  },
  {
   "cell_type": "code",
   "execution_count": 18,
   "metadata": {
    "colab": {
     "base_uri": "https://localhost:8080/",
     "height": 195
    },
    "colab_type": "code",
    "id": "2_2NJHBLZcuj",
    "outputId": "b662cd7d-e88e-41df-bf7c-09e71c51856a"
   },
   "outputs": [
    {
     "data": {
      "text/html": [
       "<div>\n",
       "<style scoped>\n",
       "    .dataframe tbody tr th:only-of-type {\n",
       "        vertical-align: middle;\n",
       "    }\n",
       "\n",
       "    .dataframe tbody tr th {\n",
       "        vertical-align: top;\n",
       "    }\n",
       "\n",
       "    .dataframe thead th {\n",
       "        text-align: right;\n",
       "    }\n",
       "</style>\n",
       "<table border=\"1\" class=\"dataframe\">\n",
       "  <thead>\n",
       "    <tr style=\"text-align: right;\">\n",
       "      <th></th>\n",
       "      <th>reviewerID</th>\n",
       "      <th>asin</th>\n",
       "      <th>prediction</th>\n",
       "    </tr>\n",
       "  </thead>\n",
       "  <tbody>\n",
       "    <tr>\n",
       "      <th>0</th>\n",
       "      <td>27033</td>\n",
       "      <td>148</td>\n",
       "      <td>3.250056</td>\n",
       "    </tr>\n",
       "    <tr>\n",
       "      <th>1</th>\n",
       "      <td>63670</td>\n",
       "      <td>148</td>\n",
       "      <td>4.000000</td>\n",
       "    </tr>\n",
       "    <tr>\n",
       "      <th>2</th>\n",
       "      <td>11146</td>\n",
       "      <td>463</td>\n",
       "      <td>3.964887</td>\n",
       "    </tr>\n",
       "    <tr>\n",
       "      <th>3</th>\n",
       "      <td>40607</td>\n",
       "      <td>463</td>\n",
       "      <td>3.826146</td>\n",
       "    </tr>\n",
       "    <tr>\n",
       "      <th>4</th>\n",
       "      <td>51277</td>\n",
       "      <td>463</td>\n",
       "      <td>4.023309</td>\n",
       "    </tr>\n",
       "  </tbody>\n",
       "</table>\n",
       "</div>"
      ],
      "text/plain": [
       "   reviewerID  asin  prediction\n",
       "0       27033   148    3.250056\n",
       "1       63670   148    4.000000\n",
       "2       11146   463    3.964887\n",
       "3       40607   463    3.826146\n",
       "4       51277   463    4.023309"
      ]
     },
     "execution_count": 18,
     "metadata": {
      "tags": []
     },
     "output_type": "execute_result"
    }
   ],
   "source": [
    "testData=ratings_df['reviewerID','asin']\n",
    "testData.withColumn('reviewerID', testData['reviewerID'].cast(IntegerType()))\n",
    "testData.withColumn('asin', testData['asin'].cast(IntegerType()))\n",
    "#Evaluation parameter=RMSE\n",
    "evaluator=RegressionEvaluator(metricName=\"rmse\",labelCol=\"overall\",predictionCol=\"prediction\")\n",
    "predictions=model.transform(testData)\n",
    "pdPredictions  = predictions.toPandas()\n",
    "#Inverse mean centering\n",
    "for uid, mean in userMeanRatings.items():\n",
    "    pdPredictions.loc[pdPredictions.reviewerID == uid, 'prediction'] += mean\n",
    "pdPredictions.head()\n"
   ]
  },
  {
   "cell_type": "code",
   "execution_count": 19,
   "metadata": {
    "colab": {
     "base_uri": "https://localhost:8080/",
     "height": 195
    },
    "colab_type": "code",
    "id": "cjTIsDiDy5ka",
    "outputId": "3628724f-8afb-4cbe-e44a-1a9fe95ff832"
   },
   "outputs": [
    {
     "data": {
      "text/html": [
       "<div>\n",
       "<style scoped>\n",
       "    .dataframe tbody tr th:only-of-type {\n",
       "        vertical-align: middle;\n",
       "    }\n",
       "\n",
       "    .dataframe tbody tr th {\n",
       "        vertical-align: top;\n",
       "    }\n",
       "\n",
       "    .dataframe thead th {\n",
       "        text-align: right;\n",
       "    }\n",
       "</style>\n",
       "<table border=\"1\" class=\"dataframe\">\n",
       "  <thead>\n",
       "    <tr style=\"text-align: right;\">\n",
       "      <th></th>\n",
       "      <th>reviewerID</th>\n",
       "      <th>asin</th>\n",
       "      <th>prediction</th>\n",
       "    </tr>\n",
       "  </thead>\n",
       "  <tbody>\n",
       "    <tr>\n",
       "      <th>0</th>\n",
       "      <td>27033</td>\n",
       "      <td>148</td>\n",
       "      <td>3.250056</td>\n",
       "    </tr>\n",
       "    <tr>\n",
       "      <th>1</th>\n",
       "      <td>63670</td>\n",
       "      <td>148</td>\n",
       "      <td>4.000000</td>\n",
       "    </tr>\n",
       "    <tr>\n",
       "      <th>2</th>\n",
       "      <td>11146</td>\n",
       "      <td>463</td>\n",
       "      <td>3.964887</td>\n",
       "    </tr>\n",
       "    <tr>\n",
       "      <th>3</th>\n",
       "      <td>40607</td>\n",
       "      <td>463</td>\n",
       "      <td>3.826146</td>\n",
       "    </tr>\n",
       "    <tr>\n",
       "      <th>4</th>\n",
       "      <td>51277</td>\n",
       "      <td>463</td>\n",
       "      <td>4.023309</td>\n",
       "    </tr>\n",
       "  </tbody>\n",
       "</table>\n",
       "</div>"
      ],
      "text/plain": [
       "   reviewerID  asin  prediction\n",
       "0       27033   148    3.250056\n",
       "1       63670   148    4.000000\n",
       "2       11146   463    3.964887\n",
       "3       40607   463    3.826146\n",
       "4       51277   463    4.023309"
      ]
     },
     "execution_count": 19,
     "metadata": {
      "tags": []
     },
     "output_type": "execute_result"
    }
   ],
   "source": [
    "pdPredictions.head()"
   ]
  },
  {
   "cell_type": "code",
   "execution_count": 20,
   "metadata": {
    "colab": {
     "base_uri": "https://localhost:8080/",
     "height": 195
    },
    "colab_type": "code",
    "id": "n9dlxp68rO5H",
    "outputId": "af3d387f-6ad7-49dc-d64a-efa7525d65c0"
   },
   "outputs": [
    {
     "data": {
      "text/html": [
       "<div>\n",
       "<style scoped>\n",
       "    .dataframe tbody tr th:only-of-type {\n",
       "        vertical-align: middle;\n",
       "    }\n",
       "\n",
       "    .dataframe tbody tr th {\n",
       "        vertical-align: top;\n",
       "    }\n",
       "\n",
       "    .dataframe thead th {\n",
       "        text-align: right;\n",
       "    }\n",
       "</style>\n",
       "<table border=\"1\" class=\"dataframe\">\n",
       "  <thead>\n",
       "    <tr style=\"text-align: right;\">\n",
       "      <th></th>\n",
       "      <th>reviewerID</th>\n",
       "      <th>asin</th>\n",
       "      <th>prediction</th>\n",
       "      <th>key</th>\n",
       "    </tr>\n",
       "  </thead>\n",
       "  <tbody>\n",
       "    <tr>\n",
       "      <th>0</th>\n",
       "      <td>27033</td>\n",
       "      <td>148</td>\n",
       "      <td>3.250056</td>\n",
       "      <td>27033-148</td>\n",
       "    </tr>\n",
       "    <tr>\n",
       "      <th>1</th>\n",
       "      <td>63670</td>\n",
       "      <td>148</td>\n",
       "      <td>4.000000</td>\n",
       "      <td>63670-148</td>\n",
       "    </tr>\n",
       "    <tr>\n",
       "      <th>2</th>\n",
       "      <td>11146</td>\n",
       "      <td>463</td>\n",
       "      <td>3.964887</td>\n",
       "      <td>11146-463</td>\n",
       "    </tr>\n",
       "    <tr>\n",
       "      <th>3</th>\n",
       "      <td>40607</td>\n",
       "      <td>463</td>\n",
       "      <td>3.826146</td>\n",
       "      <td>40607-463</td>\n",
       "    </tr>\n",
       "    <tr>\n",
       "      <th>4</th>\n",
       "      <td>51277</td>\n",
       "      <td>463</td>\n",
       "      <td>4.023309</td>\n",
       "      <td>51277-463</td>\n",
       "    </tr>\n",
       "  </tbody>\n",
       "</table>\n",
       "</div>"
      ],
      "text/plain": [
       "   reviewerID  asin  prediction        key\n",
       "0       27033   148    3.250056  27033-148\n",
       "1       63670   148    4.000000  63670-148\n",
       "2       11146   463    3.964887  11146-463\n",
       "3       40607   463    3.826146  40607-463\n",
       "4       51277   463    4.023309  51277-463"
      ]
     },
     "execution_count": 20,
     "metadata": {
      "tags": []
     },
     "output_type": "execute_result"
    }
   ],
   "source": [
    "pdPredictions['key'] = pdPredictions.reviewerID.astype(str)+'-' + pdPredictions.asin.astype(str)\n",
    "pdPredictions.head()\n"
   ]
  },
  {
   "cell_type": "markdown",
   "metadata": {
    "colab_type": "text",
    "id": "qPiXdFFjmlS1"
   },
   "source": [
    "Transforming data in the {key,overall} pair"
   ]
  },
  {
   "cell_type": "code",
   "execution_count": 21,
   "metadata": {
    "colab": {
     "base_uri": "https://localhost:8080/",
     "height": 195
    },
    "colab_type": "code",
    "id": "KY0FfMoGwMal",
    "outputId": "3990d55a-b67b-436a-befc-cba776d1adf9"
   },
   "outputs": [
    {
     "data": {
      "text/html": [
       "<div>\n",
       "<style scoped>\n",
       "    .dataframe tbody tr th:only-of-type {\n",
       "        vertical-align: middle;\n",
       "    }\n",
       "\n",
       "    .dataframe tbody tr th {\n",
       "        vertical-align: top;\n",
       "    }\n",
       "\n",
       "    .dataframe thead th {\n",
       "        text-align: right;\n",
       "    }\n",
       "</style>\n",
       "<table border=\"1\" class=\"dataframe\">\n",
       "  <thead>\n",
       "    <tr style=\"text-align: right;\">\n",
       "      <th></th>\n",
       "      <th>key</th>\n",
       "      <th>overall</th>\n",
       "    </tr>\n",
       "  </thead>\n",
       "  <tbody>\n",
       "    <tr>\n",
       "      <th>0</th>\n",
       "      <td>27033-148</td>\n",
       "      <td>3.250056</td>\n",
       "    </tr>\n",
       "    <tr>\n",
       "      <th>1</th>\n",
       "      <td>63670-148</td>\n",
       "      <td>4.000000</td>\n",
       "    </tr>\n",
       "    <tr>\n",
       "      <th>2</th>\n",
       "      <td>11146-463</td>\n",
       "      <td>3.964887</td>\n",
       "    </tr>\n",
       "    <tr>\n",
       "      <th>3</th>\n",
       "      <td>40607-463</td>\n",
       "      <td>3.826146</td>\n",
       "    </tr>\n",
       "    <tr>\n",
       "      <th>4</th>\n",
       "      <td>51277-463</td>\n",
       "      <td>4.023309</td>\n",
       "    </tr>\n",
       "  </tbody>\n",
       "</table>\n",
       "</div>"
      ],
      "text/plain": [
       "         key   overall\n",
       "0  27033-148  3.250056\n",
       "1  63670-148  4.000000\n",
       "2  11146-463  3.964887\n",
       "3  40607-463  3.826146\n",
       "4  51277-463  4.023309"
      ]
     },
     "execution_count": 21,
     "metadata": {
      "tags": []
     },
     "output_type": "execute_result"
    }
   ],
   "source": [
    "#Creating a new dataframe for reviewID-asin,overall \n",
    "new_data=pdPredictions[['key','prediction']].copy()\n",
    "new_data.rename(columns = {'prediction':'overall'}, inplace = True)\n",
    "# new_data.overall = new_data.overall.astype(float)\n",
    "new_data.head()"
   ]
  },
  {
   "cell_type": "markdown",
   "metadata": {
    "colab_type": "text",
    "id": "7sHBEKWWmuQL"
   },
   "source": [
    "Storing data in csv"
   ]
  },
  {
   "cell_type": "code",
   "execution_count": 0,
   "metadata": {
    "colab": {},
    "colab_type": "code",
    "id": "xNPkL0E01wky"
   },
   "outputs": [],
   "source": [
    "new_data.to_csv('kaggle_submission.csv',index=False)\n",
    "!cp kaggle_submission.csv /content/drive/My\\ Drive/"
   ]
  }
 ],
 "metadata": {
  "accelerator": "GPU",
  "colab": {
   "name": "Kaggle_Competition_ALS.ipynb",
   "provenance": []
  },
  "kernelspec": {
   "display_name": "Python 3",
   "language": "python",
   "name": "python3"
  },
  "language_info": {
   "codemirror_mode": {
    "name": "ipython",
    "version": 3
   },
   "file_extension": ".py",
   "mimetype": "text/x-python",
   "name": "python",
   "nbconvert_exporter": "python",
   "pygments_lexer": "ipython3",
   "version": "3.6.5"
  }
 },
 "nbformat": 4,
 "nbformat_minor": 1
}
